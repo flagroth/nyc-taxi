{
 "cells": [
  {
   "cell_type": "markdown",
   "metadata": {},
   "source": [
    "# Yellow Taxi Analysis"
   ]
  },
  {
   "cell_type": "markdown",
   "metadata": {},
   "source": [
    "Objective: https://gist.github.com/stuartlynn/706b5b71b8353b28bc6f3ac6937b1bc7"
   ]
  },
  {
   "cell_type": "markdown",
   "metadata": {},
   "source": [
    "Data dictionary: http://www.nyc.gov/html/tlc/downloads/pdf/data_dictionary_trip_records_yellow.pdf"
   ]
  },
  {
   "cell_type": "code",
   "execution_count": 1,
   "metadata": {},
   "outputs": [],
   "source": [
    "# Let's import some libraries\n",
    "%matplotlib inline\n",
    "import pandas as pd\n",
    "import numpy as np\n",
    "import matplotlib.pyplot as plt\n",
    "import seaborn as sns"
   ]
  },
  {
   "cell_type": "code",
   "execution_count": 2,
   "metadata": {},
   "outputs": [
    {
     "data": {
      "text/plain": [
       "(10294628, 17)"
      ]
     },
     "execution_count": 2,
     "metadata": {},
     "output_type": "execute_result"
    }
   ],
   "source": [
    "# Reading the data and checking its shape\n",
    "march = pd.read_csv('../data/03-march.csv')\n",
    "march.shape"
   ]
  },
  {
   "cell_type": "code",
   "execution_count": 3,
   "metadata": {},
   "outputs": [
    {
     "data": {
      "text/plain": [
       "(9656993, 17)"
      ]
     },
     "execution_count": 3,
     "metadata": {},
     "output_type": "execute_result"
    }
   ],
   "source": [
    "june = pd.read_csv('../data/06-june.csv')\n",
    "june.shape"
   ]
  },
  {
   "cell_type": "code",
   "execution_count": 4,
   "metadata": {},
   "outputs": [
    {
     "data": {
      "text/plain": [
       "(9284803, 17)"
      ]
     },
     "execution_count": 4,
     "metadata": {},
     "output_type": "execute_result"
    }
   ],
   "source": [
    "november = pd.read_csv('../data/11-november.csv')\n",
    "november.shape"
   ]
  },
  {
   "cell_type": "code",
   "execution_count": 5,
   "metadata": {},
   "outputs": [
    {
     "data": {
      "text/plain": [
       "(29236424, 17)"
      ]
     },
     "execution_count": 5,
     "metadata": {},
     "output_type": "execute_result"
    }
   ],
   "source": [
    "# Merging three months historical data into one data frame\n",
    "df = pd.concat([march,june,november])\n",
    "df.reset_index(inplace=True, drop=True)\n",
    "df.shape"
   ]
  },
  {
   "cell_type": "code",
   "execution_count": 6,
   "metadata": {},
   "outputs": [
    {
     "data": {
      "text/html": [
       "<div>\n",
       "<style scoped>\n",
       "    .dataframe tbody tr th:only-of-type {\n",
       "        vertical-align: middle;\n",
       "    }\n",
       "\n",
       "    .dataframe tbody tr th {\n",
       "        vertical-align: top;\n",
       "    }\n",
       "\n",
       "    .dataframe thead th {\n",
       "        text-align: right;\n",
       "    }\n",
       "</style>\n",
       "<table border=\"1\" class=\"dataframe\">\n",
       "  <thead>\n",
       "    <tr style=\"text-align: right;\">\n",
       "      <th></th>\n",
       "      <th>VendorID</th>\n",
       "      <th>tpep_pickup_datetime</th>\n",
       "      <th>tpep_dropoff_datetime</th>\n",
       "      <th>passenger_count</th>\n",
       "      <th>trip_distance</th>\n",
       "      <th>RatecodeID</th>\n",
       "      <th>store_and_fwd_flag</th>\n",
       "      <th>PULocationID</th>\n",
       "      <th>DOLocationID</th>\n",
       "      <th>payment_type</th>\n",
       "      <th>fare_amount</th>\n",
       "      <th>extra</th>\n",
       "      <th>mta_tax</th>\n",
       "      <th>tip_amount</th>\n",
       "      <th>tolls_amount</th>\n",
       "      <th>improvement_surcharge</th>\n",
       "      <th>total_amount</th>\n",
       "    </tr>\n",
       "  </thead>\n",
       "  <tbody>\n",
       "    <tr>\n",
       "      <th>0</th>\n",
       "      <td>2</td>\n",
       "      <td>2017-03-09 21:30:11</td>\n",
       "      <td>2017-03-09 21:44:20</td>\n",
       "      <td>1</td>\n",
       "      <td>4.06</td>\n",
       "      <td>1</td>\n",
       "      <td>N</td>\n",
       "      <td>148</td>\n",
       "      <td>48</td>\n",
       "      <td>1</td>\n",
       "      <td>14.0</td>\n",
       "      <td>0.5</td>\n",
       "      <td>0.5</td>\n",
       "      <td>3.06</td>\n",
       "      <td>0.0</td>\n",
       "      <td>0.3</td>\n",
       "      <td>18.36</td>\n",
       "    </tr>\n",
       "    <tr>\n",
       "      <th>1</th>\n",
       "      <td>2</td>\n",
       "      <td>2017-03-09 21:47:00</td>\n",
       "      <td>2017-03-09 21:58:01</td>\n",
       "      <td>1</td>\n",
       "      <td>2.73</td>\n",
       "      <td>1</td>\n",
       "      <td>N</td>\n",
       "      <td>48</td>\n",
       "      <td>107</td>\n",
       "      <td>2</td>\n",
       "      <td>11.5</td>\n",
       "      <td>0.5</td>\n",
       "      <td>0.5</td>\n",
       "      <td>0.00</td>\n",
       "      <td>0.0</td>\n",
       "      <td>0.3</td>\n",
       "      <td>12.80</td>\n",
       "    </tr>\n",
       "    <tr>\n",
       "      <th>2</th>\n",
       "      <td>2</td>\n",
       "      <td>2017-03-09 22:01:08</td>\n",
       "      <td>2017-03-09 22:11:16</td>\n",
       "      <td>1</td>\n",
       "      <td>2.27</td>\n",
       "      <td>1</td>\n",
       "      <td>N</td>\n",
       "      <td>79</td>\n",
       "      <td>162</td>\n",
       "      <td>1</td>\n",
       "      <td>10.0</td>\n",
       "      <td>0.5</td>\n",
       "      <td>0.5</td>\n",
       "      <td>2.82</td>\n",
       "      <td>0.0</td>\n",
       "      <td>0.3</td>\n",
       "      <td>14.12</td>\n",
       "    </tr>\n",
       "    <tr>\n",
       "      <th>3</th>\n",
       "      <td>2</td>\n",
       "      <td>2017-03-09 22:16:05</td>\n",
       "      <td>2017-03-10 06:26:11</td>\n",
       "      <td>1</td>\n",
       "      <td>3.86</td>\n",
       "      <td>1</td>\n",
       "      <td>N</td>\n",
       "      <td>237</td>\n",
       "      <td>41</td>\n",
       "      <td>1</td>\n",
       "      <td>12.0</td>\n",
       "      <td>0.5</td>\n",
       "      <td>0.5</td>\n",
       "      <td>3.99</td>\n",
       "      <td>0.0</td>\n",
       "      <td>0.3</td>\n",
       "      <td>17.29</td>\n",
       "    </tr>\n",
       "    <tr>\n",
       "      <th>4</th>\n",
       "      <td>2</td>\n",
       "      <td>2017-03-31 06:31:53</td>\n",
       "      <td>2017-03-31 06:41:48</td>\n",
       "      <td>1</td>\n",
       "      <td>3.45</td>\n",
       "      <td>1</td>\n",
       "      <td>N</td>\n",
       "      <td>41</td>\n",
       "      <td>162</td>\n",
       "      <td>2</td>\n",
       "      <td>12.0</td>\n",
       "      <td>0.5</td>\n",
       "      <td>0.5</td>\n",
       "      <td>0.00</td>\n",
       "      <td>0.0</td>\n",
       "      <td>0.3</td>\n",
       "      <td>13.30</td>\n",
       "    </tr>\n",
       "  </tbody>\n",
       "</table>\n",
       "</div>"
      ],
      "text/plain": [
       "   VendorID tpep_pickup_datetime tpep_dropoff_datetime  passenger_count  \\\n",
       "0         2  2017-03-09 21:30:11   2017-03-09 21:44:20                1   \n",
       "1         2  2017-03-09 21:47:00   2017-03-09 21:58:01                1   \n",
       "2         2  2017-03-09 22:01:08   2017-03-09 22:11:16                1   \n",
       "3         2  2017-03-09 22:16:05   2017-03-10 06:26:11                1   \n",
       "4         2  2017-03-31 06:31:53   2017-03-31 06:41:48                1   \n",
       "\n",
       "   trip_distance  RatecodeID store_and_fwd_flag  PULocationID  DOLocationID  \\\n",
       "0           4.06           1                  N           148            48   \n",
       "1           2.73           1                  N            48           107   \n",
       "2           2.27           1                  N            79           162   \n",
       "3           3.86           1                  N           237            41   \n",
       "4           3.45           1                  N            41           162   \n",
       "\n",
       "   payment_type  fare_amount  extra  mta_tax  tip_amount  tolls_amount  \\\n",
       "0             1         14.0    0.5      0.5        3.06           0.0   \n",
       "1             2         11.5    0.5      0.5        0.00           0.0   \n",
       "2             1         10.0    0.5      0.5        2.82           0.0   \n",
       "3             1         12.0    0.5      0.5        3.99           0.0   \n",
       "4             2         12.0    0.5      0.5        0.00           0.0   \n",
       "\n",
       "   improvement_surcharge  total_amount  \n",
       "0                    0.3         18.36  \n",
       "1                    0.3         12.80  \n",
       "2                    0.3         14.12  \n",
       "3                    0.3         17.29  \n",
       "4                    0.3         13.30  "
      ]
     },
     "execution_count": 6,
     "metadata": {},
     "output_type": "execute_result"
    }
   ],
   "source": [
    "# Let's take a glance on the data\n",
    "df.head()"
   ]
  },
  {
   "cell_type": "code",
   "execution_count": 7,
   "metadata": {},
   "outputs": [
    {
     "data": {
      "text/plain": [
       "VendorID                   int64\n",
       "tpep_pickup_datetime      object\n",
       "tpep_dropoff_datetime     object\n",
       "passenger_count            int64\n",
       "trip_distance            float64\n",
       "RatecodeID                 int64\n",
       "store_and_fwd_flag        object\n",
       "PULocationID               int64\n",
       "DOLocationID               int64\n",
       "payment_type               int64\n",
       "fare_amount              float64\n",
       "extra                    float64\n",
       "mta_tax                  float64\n",
       "tip_amount               float64\n",
       "tolls_amount             float64\n",
       "improvement_surcharge    float64\n",
       "total_amount             float64\n",
       "dtype: object"
      ]
     },
     "execution_count": 7,
     "metadata": {},
     "output_type": "execute_result"
    }
   ],
   "source": [
    "df.dtypes"
   ]
  },
  {
   "cell_type": "code",
   "execution_count": 8,
   "metadata": {},
   "outputs": [],
   "source": [
    "# Pickup and dropoff times are strings, let's convert them to timestamps so we can later work with them.\n",
    "df['tpep_pickup_datetime'] = pd.to_datetime(df['tpep_pickup_datetime'])\n",
    "df['tpep_dropoff_datetime'] = pd.to_datetime(df['tpep_dropoff_datetime'])"
   ]
  },
  {
   "cell_type": "code",
   "execution_count": 9,
   "metadata": {},
   "outputs": [],
   "source": [
    "# Converting categorical data into 'category'\n",
    "df['VendorID'] = df['VendorID'].astype('category')\n",
    "df['payment_type'] = df['payment_type'].astype('category')\n",
    "df['RatecodeID'] = df['RatecodeID'].astype('category')\n",
    "df['PULocationID'] = df['PULocationID'].astype('category')\n",
    "df['DOLocationID'] = df['DOLocationID'].astype('category')\n",
    "df['store_and_fwd_flag'] = df['store_and_fwd_flag'].astype('category')"
   ]
  },
  {
   "cell_type": "code",
   "execution_count": 10,
   "metadata": {},
   "outputs": [
    {
     "data": {
      "text/plain": [
       "VendorID                       category\n",
       "tpep_pickup_datetime     datetime64[ns]\n",
       "tpep_dropoff_datetime    datetime64[ns]\n",
       "passenger_count                   int64\n",
       "trip_distance                   float64\n",
       "RatecodeID                     category\n",
       "store_and_fwd_flag             category\n",
       "PULocationID                   category\n",
       "DOLocationID                   category\n",
       "payment_type                   category\n",
       "fare_amount                     float64\n",
       "extra                           float64\n",
       "mta_tax                         float64\n",
       "tip_amount                      float64\n",
       "tolls_amount                    float64\n",
       "improvement_surcharge           float64\n",
       "total_amount                    float64\n",
       "dtype: object"
      ]
     },
     "execution_count": 10,
     "metadata": {},
     "output_type": "execute_result"
    }
   ],
   "source": [
    "df.dtypes"
   ]
  },
  {
   "cell_type": "code",
   "execution_count": 11,
   "metadata": {},
   "outputs": [
    {
     "data": {
      "text/plain": [
       "VendorID                 False\n",
       "tpep_pickup_datetime     False\n",
       "tpep_dropoff_datetime    False\n",
       "passenger_count          False\n",
       "trip_distance            False\n",
       "RatecodeID               False\n",
       "store_and_fwd_flag       False\n",
       "PULocationID             False\n",
       "DOLocationID             False\n",
       "payment_type             False\n",
       "fare_amount              False\n",
       "extra                    False\n",
       "mta_tax                  False\n",
       "tip_amount               False\n",
       "tolls_amount             False\n",
       "improvement_surcharge    False\n",
       "total_amount             False\n",
       "dtype: bool"
      ]
     },
     "execution_count": 11,
     "metadata": {},
     "output_type": "execute_result"
    }
   ],
   "source": [
    "# Cool. No NAs to deal with.\n",
    "df.isnull().any()"
   ]
  },
  {
   "cell_type": "code",
   "execution_count": 12,
   "metadata": {},
   "outputs": [
    {
     "data": {
      "text/html": [
       "<div>\n",
       "<style scoped>\n",
       "    .dataframe tbody tr th:only-of-type {\n",
       "        vertical-align: middle;\n",
       "    }\n",
       "\n",
       "    .dataframe tbody tr th {\n",
       "        vertical-align: top;\n",
       "    }\n",
       "\n",
       "    .dataframe thead th {\n",
       "        text-align: right;\n",
       "    }\n",
       "</style>\n",
       "<table border=\"1\" class=\"dataframe\">\n",
       "  <thead>\n",
       "    <tr style=\"text-align: right;\">\n",
       "      <th></th>\n",
       "      <th>passenger_count</th>\n",
       "      <th>trip_distance</th>\n",
       "      <th>fare_amount</th>\n",
       "      <th>extra</th>\n",
       "      <th>mta_tax</th>\n",
       "      <th>tip_amount</th>\n",
       "      <th>tolls_amount</th>\n",
       "      <th>improvement_surcharge</th>\n",
       "      <th>total_amount</th>\n",
       "    </tr>\n",
       "  </thead>\n",
       "  <tbody>\n",
       "    <tr>\n",
       "      <th>count</th>\n",
       "      <td>2.923642e+07</td>\n",
       "      <td>2.923642e+07</td>\n",
       "      <td>2.923642e+07</td>\n",
       "      <td>2.923642e+07</td>\n",
       "      <td>2.923642e+07</td>\n",
       "      <td>2.923642e+07</td>\n",
       "      <td>2.923642e+07</td>\n",
       "      <td>2.923642e+07</td>\n",
       "      <td>2.923642e+07</td>\n",
       "    </tr>\n",
       "    <tr>\n",
       "      <th>mean</th>\n",
       "      <td>1.617798e+00</td>\n",
       "      <td>2.919386e+00</td>\n",
       "      <td>1.310930e+01</td>\n",
       "      <td>3.339407e-01</td>\n",
       "      <td>4.973104e-01</td>\n",
       "      <td>1.874055e+00</td>\n",
       "      <td>3.290113e-01</td>\n",
       "      <td>2.996283e-01</td>\n",
       "      <td>1.644710e+01</td>\n",
       "    </tr>\n",
       "    <tr>\n",
       "      <th>std</th>\n",
       "      <td>1.260992e+00</td>\n",
       "      <td>4.476535e+00</td>\n",
       "      <td>1.472817e+02</td>\n",
       "      <td>4.615744e-01</td>\n",
       "      <td>7.081708e-02</td>\n",
       "      <td>2.645570e+00</td>\n",
       "      <td>1.968881e+00</td>\n",
       "      <td>1.408904e-02</td>\n",
       "      <td>1.475248e+02</td>\n",
       "    </tr>\n",
       "    <tr>\n",
       "      <th>min</th>\n",
       "      <td>0.000000e+00</td>\n",
       "      <td>0.000000e+00</td>\n",
       "      <td>-5.500000e+02</td>\n",
       "      <td>-5.371000e+01</td>\n",
       "      <td>-5.000000e-01</td>\n",
       "      <td>-1.120000e+02</td>\n",
       "      <td>-1.750000e+01</td>\n",
       "      <td>-3.000000e-01</td>\n",
       "      <td>-5.503000e+02</td>\n",
       "    </tr>\n",
       "    <tr>\n",
       "      <th>25%</th>\n",
       "      <td>1.000000e+00</td>\n",
       "      <td>9.700000e-01</td>\n",
       "      <td>6.500000e+00</td>\n",
       "      <td>0.000000e+00</td>\n",
       "      <td>5.000000e-01</td>\n",
       "      <td>0.000000e+00</td>\n",
       "      <td>0.000000e+00</td>\n",
       "      <td>3.000000e-01</td>\n",
       "      <td>8.750000e+00</td>\n",
       "    </tr>\n",
       "    <tr>\n",
       "      <th>50%</th>\n",
       "      <td>1.000000e+00</td>\n",
       "      <td>1.600000e+00</td>\n",
       "      <td>9.500000e+00</td>\n",
       "      <td>0.000000e+00</td>\n",
       "      <td>5.000000e-01</td>\n",
       "      <td>1.360000e+00</td>\n",
       "      <td>0.000000e+00</td>\n",
       "      <td>3.000000e-01</td>\n",
       "      <td>1.180000e+01</td>\n",
       "    </tr>\n",
       "    <tr>\n",
       "      <th>75%</th>\n",
       "      <td>2.000000e+00</td>\n",
       "      <td>3.010000e+00</td>\n",
       "      <td>1.450000e+01</td>\n",
       "      <td>5.000000e-01</td>\n",
       "      <td>5.000000e-01</td>\n",
       "      <td>2.460000e+00</td>\n",
       "      <td>0.000000e+00</td>\n",
       "      <td>3.000000e-01</td>\n",
       "      <td>1.780000e+01</td>\n",
       "    </tr>\n",
       "    <tr>\n",
       "      <th>max</th>\n",
       "      <td>1.920000e+02</td>\n",
       "      <td>9.496980e+03</td>\n",
       "      <td>6.304618e+05</td>\n",
       "      <td>6.980000e+01</td>\n",
       "      <td>1.400000e+02</td>\n",
       "      <td>4.500000e+02</td>\n",
       "      <td>1.018950e+03</td>\n",
       "      <td>1.000000e+00</td>\n",
       "      <td>6.304631e+05</td>\n",
       "    </tr>\n",
       "  </tbody>\n",
       "</table>\n",
       "</div>"
      ],
      "text/plain": [
       "       passenger_count  trip_distance   fare_amount         extra  \\\n",
       "count     2.923642e+07   2.923642e+07  2.923642e+07  2.923642e+07   \n",
       "mean      1.617798e+00   2.919386e+00  1.310930e+01  3.339407e-01   \n",
       "std       1.260992e+00   4.476535e+00  1.472817e+02  4.615744e-01   \n",
       "min       0.000000e+00   0.000000e+00 -5.500000e+02 -5.371000e+01   \n",
       "25%       1.000000e+00   9.700000e-01  6.500000e+00  0.000000e+00   \n",
       "50%       1.000000e+00   1.600000e+00  9.500000e+00  0.000000e+00   \n",
       "75%       2.000000e+00   3.010000e+00  1.450000e+01  5.000000e-01   \n",
       "max       1.920000e+02   9.496980e+03  6.304618e+05  6.980000e+01   \n",
       "\n",
       "            mta_tax    tip_amount  tolls_amount  improvement_surcharge  \\\n",
       "count  2.923642e+07  2.923642e+07  2.923642e+07           2.923642e+07   \n",
       "mean   4.973104e-01  1.874055e+00  3.290113e-01           2.996283e-01   \n",
       "std    7.081708e-02  2.645570e+00  1.968881e+00           1.408904e-02   \n",
       "min   -5.000000e-01 -1.120000e+02 -1.750000e+01          -3.000000e-01   \n",
       "25%    5.000000e-01  0.000000e+00  0.000000e+00           3.000000e-01   \n",
       "50%    5.000000e-01  1.360000e+00  0.000000e+00           3.000000e-01   \n",
       "75%    5.000000e-01  2.460000e+00  0.000000e+00           3.000000e-01   \n",
       "max    1.400000e+02  4.500000e+02  1.018950e+03           1.000000e+00   \n",
       "\n",
       "       total_amount  \n",
       "count  2.923642e+07  \n",
       "mean   1.644710e+01  \n",
       "std    1.475248e+02  \n",
       "min   -5.503000e+02  \n",
       "25%    8.750000e+00  \n",
       "50%    1.180000e+01  \n",
       "75%    1.780000e+01  \n",
       "max    6.304631e+05  "
      ]
     },
     "execution_count": 12,
     "metadata": {},
     "output_type": "execute_result"
    }
   ],
   "source": [
    "# Let's explore the data\n",
    "df.describe()"
   ]
  },
  {
   "cell_type": "markdown",
   "metadata": {},
   "source": [
    "# Gossiping data"
   ]
  },
  {
   "cell_type": "markdown",
   "metadata": {},
   "source": [
    "## Maximums"
   ]
  },
  {
   "cell_type": "markdown",
   "metadata": {},
   "source": [
    "We don't have NAs in our data but yet it seems there may be some missing or incorrect data. Checking the max values of each column we can see there are some things \"strange\". There is a trip with 192 passengers on it (some driver must have mistyped), a trip with 9496 miles, a trip whose fare is about 630k USD, a 450 USD tip (someone seems to be extremely generous). Let's take a look to these trips."
   ]
  },
  {
   "cell_type": "code",
   "execution_count": 13,
   "metadata": {},
   "outputs": [
    {
     "data": {
      "text/html": [
       "<div>\n",
       "<style scoped>\n",
       "    .dataframe tbody tr th:only-of-type {\n",
       "        vertical-align: middle;\n",
       "    }\n",
       "\n",
       "    .dataframe tbody tr th {\n",
       "        vertical-align: top;\n",
       "    }\n",
       "\n",
       "    .dataframe thead th {\n",
       "        text-align: right;\n",
       "    }\n",
       "</style>\n",
       "<table border=\"1\" class=\"dataframe\">\n",
       "  <thead>\n",
       "    <tr style=\"text-align: right;\">\n",
       "      <th></th>\n",
       "      <th>VendorID</th>\n",
       "      <th>tpep_pickup_datetime</th>\n",
       "      <th>tpep_dropoff_datetime</th>\n",
       "      <th>passenger_count</th>\n",
       "      <th>trip_distance</th>\n",
       "      <th>RatecodeID</th>\n",
       "      <th>store_and_fwd_flag</th>\n",
       "      <th>PULocationID</th>\n",
       "      <th>DOLocationID</th>\n",
       "      <th>payment_type</th>\n",
       "      <th>fare_amount</th>\n",
       "      <th>extra</th>\n",
       "      <th>mta_tax</th>\n",
       "      <th>tip_amount</th>\n",
       "      <th>tolls_amount</th>\n",
       "      <th>improvement_surcharge</th>\n",
       "      <th>total_amount</th>\n",
       "    </tr>\n",
       "  </thead>\n",
       "  <tbody>\n",
       "    <tr>\n",
       "      <th>28795318</th>\n",
       "      <td>2</td>\n",
       "      <td>2017-11-29 18:49:11</td>\n",
       "      <td>2017-11-29 18:55:47</td>\n",
       "      <td>192</td>\n",
       "      <td>1.07</td>\n",
       "      <td>1</td>\n",
       "      <td>N</td>\n",
       "      <td>158</td>\n",
       "      <td>68</td>\n",
       "      <td>1</td>\n",
       "      <td>6.5</td>\n",
       "      <td>1.0</td>\n",
       "      <td>0.5</td>\n",
       "      <td>1.24</td>\n",
       "      <td>0.0</td>\n",
       "      <td>0.3</td>\n",
       "      <td>9.54</td>\n",
       "    </tr>\n",
       "  </tbody>\n",
       "</table>\n",
       "</div>"
      ],
      "text/plain": [
       "         VendorID tpep_pickup_datetime tpep_dropoff_datetime  passenger_count  \\\n",
       "28795318        2  2017-11-29 18:49:11   2017-11-29 18:55:47              192   \n",
       "\n",
       "          trip_distance RatecodeID store_and_fwd_flag PULocationID  \\\n",
       "28795318           1.07          1                  N          158   \n",
       "\n",
       "         DOLocationID payment_type  fare_amount  extra  mta_tax  tip_amount  \\\n",
       "28795318           68            1          6.5    1.0      0.5        1.24   \n",
       "\n",
       "          tolls_amount  improvement_surcharge  total_amount  \n",
       "28795318           0.0                    0.3          9.54  "
      ]
     },
     "execution_count": 13,
     "metadata": {},
     "output_type": "execute_result"
    }
   ],
   "source": [
    "df[df['passenger_count']==192]"
   ]
  },
  {
   "cell_type": "markdown",
   "metadata": {},
   "source": [
    "9.54 USD for a 192 passenger trip seems like a mistyped data."
   ]
  },
  {
   "cell_type": "code",
   "execution_count": 14,
   "metadata": {},
   "outputs": [
    {
     "data": {
      "text/html": [
       "<div>\n",
       "<style scoped>\n",
       "    .dataframe tbody tr th:only-of-type {\n",
       "        vertical-align: middle;\n",
       "    }\n",
       "\n",
       "    .dataframe tbody tr th {\n",
       "        vertical-align: top;\n",
       "    }\n",
       "\n",
       "    .dataframe thead th {\n",
       "        text-align: right;\n",
       "    }\n",
       "</style>\n",
       "<table border=\"1\" class=\"dataframe\">\n",
       "  <thead>\n",
       "    <tr style=\"text-align: right;\">\n",
       "      <th></th>\n",
       "      <th>VendorID</th>\n",
       "      <th>tpep_pickup_datetime</th>\n",
       "      <th>tpep_dropoff_datetime</th>\n",
       "      <th>passenger_count</th>\n",
       "      <th>trip_distance</th>\n",
       "      <th>RatecodeID</th>\n",
       "      <th>store_and_fwd_flag</th>\n",
       "      <th>PULocationID</th>\n",
       "      <th>DOLocationID</th>\n",
       "      <th>payment_type</th>\n",
       "      <th>fare_amount</th>\n",
       "      <th>extra</th>\n",
       "      <th>mta_tax</th>\n",
       "      <th>tip_amount</th>\n",
       "      <th>tolls_amount</th>\n",
       "      <th>improvement_surcharge</th>\n",
       "      <th>total_amount</th>\n",
       "    </tr>\n",
       "  </thead>\n",
       "  <tbody>\n",
       "    <tr>\n",
       "      <th>15934665</th>\n",
       "      <td>2</td>\n",
       "      <td>2017-06-20 15:21:21</td>\n",
       "      <td>2017-06-22 11:19:32</td>\n",
       "      <td>1</td>\n",
       "      <td>9496.98</td>\n",
       "      <td>1</td>\n",
       "      <td>N</td>\n",
       "      <td>193</td>\n",
       "      <td>193</td>\n",
       "      <td>2</td>\n",
       "      <td>9999.99</td>\n",
       "      <td>0.0</td>\n",
       "      <td>0.0</td>\n",
       "      <td>0.0</td>\n",
       "      <td>0.0</td>\n",
       "      <td>0.0</td>\n",
       "      <td>9999.99</td>\n",
       "    </tr>\n",
       "  </tbody>\n",
       "</table>\n",
       "</div>"
      ],
      "text/plain": [
       "         VendorID tpep_pickup_datetime tpep_dropoff_datetime  passenger_count  \\\n",
       "15934665        2  2017-06-20 15:21:21   2017-06-22 11:19:32                1   \n",
       "\n",
       "          trip_distance RatecodeID store_and_fwd_flag PULocationID  \\\n",
       "15934665        9496.98          1                  N          193   \n",
       "\n",
       "         DOLocationID payment_type  fare_amount  extra  mta_tax  tip_amount  \\\n",
       "15934665          193            2      9999.99    0.0      0.0         0.0   \n",
       "\n",
       "          tolls_amount  improvement_surcharge  total_amount  \n",
       "15934665           0.0                    0.0       9999.99  "
      ]
     },
     "execution_count": 14,
     "metadata": {},
     "output_type": "execute_result"
    }
   ],
   "source": [
    "df[df['trip_distance']==np.max(df['trip_distance'])]"
   ]
  },
  {
   "cell_type": "markdown",
   "metadata": {},
   "source": [
    "I am not sure, but it seems a malfunction of the meter or maybe a test. "
   ]
  },
  {
   "cell_type": "code",
   "execution_count": 15,
   "metadata": {},
   "outputs": [
    {
     "data": {
      "text/html": [
       "<div>\n",
       "<style scoped>\n",
       "    .dataframe tbody tr th:only-of-type {\n",
       "        vertical-align: middle;\n",
       "    }\n",
       "\n",
       "    .dataframe tbody tr th {\n",
       "        vertical-align: top;\n",
       "    }\n",
       "\n",
       "    .dataframe thead th {\n",
       "        text-align: right;\n",
       "    }\n",
       "</style>\n",
       "<table border=\"1\" class=\"dataframe\">\n",
       "  <thead>\n",
       "    <tr style=\"text-align: right;\">\n",
       "      <th></th>\n",
       "      <th>VendorID</th>\n",
       "      <th>tpep_pickup_datetime</th>\n",
       "      <th>tpep_dropoff_datetime</th>\n",
       "      <th>passenger_count</th>\n",
       "      <th>trip_distance</th>\n",
       "      <th>RatecodeID</th>\n",
       "      <th>store_and_fwd_flag</th>\n",
       "      <th>PULocationID</th>\n",
       "      <th>DOLocationID</th>\n",
       "      <th>payment_type</th>\n",
       "      <th>fare_amount</th>\n",
       "      <th>extra</th>\n",
       "      <th>mta_tax</th>\n",
       "      <th>tip_amount</th>\n",
       "      <th>tolls_amount</th>\n",
       "      <th>improvement_surcharge</th>\n",
       "      <th>total_amount</th>\n",
       "    </tr>\n",
       "  </thead>\n",
       "  <tbody>\n",
       "    <tr>\n",
       "      <th>16068048</th>\n",
       "      <td>1</td>\n",
       "      <td>2017-06-20 22:34:58</td>\n",
       "      <td>2017-06-20 22:39:16</td>\n",
       "      <td>1</td>\n",
       "      <td>0.8</td>\n",
       "      <td>1</td>\n",
       "      <td>N</td>\n",
       "      <td>141</td>\n",
       "      <td>141</td>\n",
       "      <td>2</td>\n",
       "      <td>630461.82</td>\n",
       "      <td>0.5</td>\n",
       "      <td>0.5</td>\n",
       "      <td>0.0</td>\n",
       "      <td>0.0</td>\n",
       "      <td>0.3</td>\n",
       "      <td>630463.12</td>\n",
       "    </tr>\n",
       "  </tbody>\n",
       "</table>\n",
       "</div>"
      ],
      "text/plain": [
       "         VendorID tpep_pickup_datetime tpep_dropoff_datetime  passenger_count  \\\n",
       "16068048        1  2017-06-20 22:34:58   2017-06-20 22:39:16                1   \n",
       "\n",
       "          trip_distance RatecodeID store_and_fwd_flag PULocationID  \\\n",
       "16068048            0.8          1                  N          141   \n",
       "\n",
       "         DOLocationID payment_type  fare_amount  extra  mta_tax  tip_amount  \\\n",
       "16068048          141            2    630461.82    0.5      0.5         0.0   \n",
       "\n",
       "          tolls_amount  improvement_surcharge  total_amount  \n",
       "16068048           0.0                    0.3     630463.12  "
      ]
     },
     "execution_count": 15,
     "metadata": {},
     "output_type": "execute_result"
    }
   ],
   "source": [
    "df[df['fare_amount']==np.max(df['fare_amount'])]"
   ]
  },
  {
   "cell_type": "markdown",
   "metadata": {},
   "source": [
    "This looks like another error. 630k for a five minute and 0.8 miles trip seems a bit overkill."
   ]
  },
  {
   "cell_type": "code",
   "execution_count": 16,
   "metadata": {},
   "outputs": [
    {
     "data": {
      "text/html": [
       "<div>\n",
       "<style scoped>\n",
       "    .dataframe tbody tr th:only-of-type {\n",
       "        vertical-align: middle;\n",
       "    }\n",
       "\n",
       "    .dataframe tbody tr th {\n",
       "        vertical-align: top;\n",
       "    }\n",
       "\n",
       "    .dataframe thead th {\n",
       "        text-align: right;\n",
       "    }\n",
       "</style>\n",
       "<table border=\"1\" class=\"dataframe\">\n",
       "  <thead>\n",
       "    <tr style=\"text-align: right;\">\n",
       "      <th></th>\n",
       "      <th>VendorID</th>\n",
       "      <th>tpep_pickup_datetime</th>\n",
       "      <th>tpep_dropoff_datetime</th>\n",
       "      <th>passenger_count</th>\n",
       "      <th>trip_distance</th>\n",
       "      <th>RatecodeID</th>\n",
       "      <th>store_and_fwd_flag</th>\n",
       "      <th>PULocationID</th>\n",
       "      <th>DOLocationID</th>\n",
       "      <th>payment_type</th>\n",
       "      <th>fare_amount</th>\n",
       "      <th>extra</th>\n",
       "      <th>mta_tax</th>\n",
       "      <th>tip_amount</th>\n",
       "      <th>tolls_amount</th>\n",
       "      <th>improvement_surcharge</th>\n",
       "      <th>total_amount</th>\n",
       "    </tr>\n",
       "  </thead>\n",
       "  <tbody>\n",
       "    <tr>\n",
       "      <th>21597347</th>\n",
       "      <td>2</td>\n",
       "      <td>2017-11-05 22:36:50</td>\n",
       "      <td>2017-11-05 22:47:14</td>\n",
       "      <td>1</td>\n",
       "      <td>2.16</td>\n",
       "      <td>1</td>\n",
       "      <td>N</td>\n",
       "      <td>211</td>\n",
       "      <td>234</td>\n",
       "      <td>1</td>\n",
       "      <td>9.5</td>\n",
       "      <td>0.5</td>\n",
       "      <td>0.5</td>\n",
       "      <td>450.0</td>\n",
       "      <td>0.0</td>\n",
       "      <td>0.3</td>\n",
       "      <td>460.8</td>\n",
       "    </tr>\n",
       "  </tbody>\n",
       "</table>\n",
       "</div>"
      ],
      "text/plain": [
       "         VendorID tpep_pickup_datetime tpep_dropoff_datetime  passenger_count  \\\n",
       "21597347        2  2017-11-05 22:36:50   2017-11-05 22:47:14                1   \n",
       "\n",
       "          trip_distance RatecodeID store_and_fwd_flag PULocationID  \\\n",
       "21597347           2.16          1                  N          211   \n",
       "\n",
       "         DOLocationID payment_type  fare_amount  extra  mta_tax  tip_amount  \\\n",
       "21597347          234            1          9.5    0.5      0.5       450.0   \n",
       "\n",
       "          tolls_amount  improvement_surcharge  total_amount  \n",
       "21597347           0.0                    0.3         460.8  "
      ]
     },
     "execution_count": 16,
     "metadata": {},
     "output_type": "execute_result"
    }
   ],
   "source": [
    "df[df['tip_amount']==np.max(df['tip_amount'])]"
   ]
  },
  {
   "cell_type": "markdown",
   "metadata": {},
   "source": [
    "A night to never forget for the driver. Quickest 450 USD made ever!"
   ]
  },
  {
   "cell_type": "code",
   "execution_count": 17,
   "metadata": {},
   "outputs": [
    {
     "data": {
      "text/html": [
       "<div>\n",
       "<style scoped>\n",
       "    .dataframe tbody tr th:only-of-type {\n",
       "        vertical-align: middle;\n",
       "    }\n",
       "\n",
       "    .dataframe tbody tr th {\n",
       "        vertical-align: top;\n",
       "    }\n",
       "\n",
       "    .dataframe thead th {\n",
       "        text-align: right;\n",
       "    }\n",
       "</style>\n",
       "<table border=\"1\" class=\"dataframe\">\n",
       "  <thead>\n",
       "    <tr style=\"text-align: right;\">\n",
       "      <th></th>\n",
       "      <th>VendorID</th>\n",
       "      <th>tpep_pickup_datetime</th>\n",
       "      <th>tpep_dropoff_datetime</th>\n",
       "      <th>passenger_count</th>\n",
       "      <th>trip_distance</th>\n",
       "      <th>RatecodeID</th>\n",
       "      <th>store_and_fwd_flag</th>\n",
       "      <th>PULocationID</th>\n",
       "      <th>DOLocationID</th>\n",
       "      <th>payment_type</th>\n",
       "      <th>fare_amount</th>\n",
       "      <th>extra</th>\n",
       "      <th>mta_tax</th>\n",
       "      <th>tip_amount</th>\n",
       "      <th>tolls_amount</th>\n",
       "      <th>improvement_surcharge</th>\n",
       "      <th>total_amount</th>\n",
       "    </tr>\n",
       "  </thead>\n",
       "  <tbody>\n",
       "    <tr>\n",
       "      <th>28579549</th>\n",
       "      <td>1</td>\n",
       "      <td>2017-11-28 23:24:24</td>\n",
       "      <td>2017-11-29 00:09:00</td>\n",
       "      <td>1</td>\n",
       "      <td>6.2</td>\n",
       "      <td>1</td>\n",
       "      <td>N</td>\n",
       "      <td>246</td>\n",
       "      <td>112</td>\n",
       "      <td>3</td>\n",
       "      <td>26.5</td>\n",
       "      <td>0.5</td>\n",
       "      <td>0.5</td>\n",
       "      <td>0.0</td>\n",
       "      <td>1018.95</td>\n",
       "      <td>0.3</td>\n",
       "      <td>1046.75</td>\n",
       "    </tr>\n",
       "  </tbody>\n",
       "</table>\n",
       "</div>"
      ],
      "text/plain": [
       "         VendorID tpep_pickup_datetime tpep_dropoff_datetime  passenger_count  \\\n",
       "28579549        1  2017-11-28 23:24:24   2017-11-29 00:09:00                1   \n",
       "\n",
       "          trip_distance RatecodeID store_and_fwd_flag PULocationID  \\\n",
       "28579549            6.2          1                  N          246   \n",
       "\n",
       "         DOLocationID payment_type  fare_amount  extra  mta_tax  tip_amount  \\\n",
       "28579549          112            3         26.5    0.5      0.5         0.0   \n",
       "\n",
       "          tolls_amount  improvement_surcharge  total_amount  \n",
       "28579549       1018.95                    0.3       1046.75  "
      ]
     },
     "execution_count": 17,
     "metadata": {},
     "output_type": "execute_result"
    }
   ],
   "source": [
    "df[df['tolls_amount']==np.max(df['tolls_amount'])]"
   ]
  },
  {
   "cell_type": "markdown",
   "metadata": {},
   "source": [
    "More than 1000 USD paid in tolls. Seems weird."
   ]
  },
  {
   "cell_type": "markdown",
   "metadata": {},
   "source": [
    "## Minimums"
   ]
  },
  {
   "cell_type": "code",
   "execution_count": 18,
   "metadata": {},
   "outputs": [
    {
     "data": {
      "text/plain": [
       "51760"
      ]
     },
     "execution_count": 18,
     "metadata": {},
     "output_type": "execute_result"
    }
   ],
   "source": [
    "df[df['passenger_count']==0].count()[0]"
   ]
  },
  {
   "cell_type": "markdown",
   "metadata": {},
   "source": [
    "There are 51760 trips with no passengers. As this field is typed by the drivers they should have forgotten."
   ]
  },
  {
   "cell_type": "code",
   "execution_count": 19,
   "metadata": {},
   "outputs": [
    {
     "data": {
      "text/plain": [
       "191490"
      ]
     },
     "execution_count": 19,
     "metadata": {},
     "output_type": "execute_result"
    }
   ],
   "source": [
    "df[df['trip_distance']==np.min(df['trip_distance'])].count()[0]"
   ]
  },
  {
   "cell_type": "markdown",
   "metadata": {},
   "source": [
    "There are 191490 trips which distance is zero."
   ]
  },
  {
   "cell_type": "code",
   "execution_count": 20,
   "metadata": {},
   "outputs": [
    {
     "data": {
      "text/html": [
       "<div>\n",
       "<style scoped>\n",
       "    .dataframe tbody tr th:only-of-type {\n",
       "        vertical-align: middle;\n",
       "    }\n",
       "\n",
       "    .dataframe tbody tr th {\n",
       "        vertical-align: top;\n",
       "    }\n",
       "\n",
       "    .dataframe thead th {\n",
       "        text-align: right;\n",
       "    }\n",
       "</style>\n",
       "<table border=\"1\" class=\"dataframe\">\n",
       "  <thead>\n",
       "    <tr style=\"text-align: right;\">\n",
       "      <th></th>\n",
       "      <th>VendorID</th>\n",
       "      <th>tpep_pickup_datetime</th>\n",
       "      <th>tpep_dropoff_datetime</th>\n",
       "      <th>passenger_count</th>\n",
       "      <th>trip_distance</th>\n",
       "      <th>RatecodeID</th>\n",
       "      <th>store_and_fwd_flag</th>\n",
       "      <th>PULocationID</th>\n",
       "      <th>DOLocationID</th>\n",
       "      <th>payment_type</th>\n",
       "      <th>fare_amount</th>\n",
       "      <th>extra</th>\n",
       "      <th>mta_tax</th>\n",
       "      <th>tip_amount</th>\n",
       "      <th>tolls_amount</th>\n",
       "      <th>improvement_surcharge</th>\n",
       "      <th>total_amount</th>\n",
       "    </tr>\n",
       "  </thead>\n",
       "  <tbody>\n",
       "    <tr>\n",
       "      <th>16589619</th>\n",
       "      <td>2</td>\n",
       "      <td>2017-06-22 12:56:16</td>\n",
       "      <td>2017-06-22 12:56:32</td>\n",
       "      <td>2</td>\n",
       "      <td>0.0</td>\n",
       "      <td>5</td>\n",
       "      <td>N</td>\n",
       "      <td>223</td>\n",
       "      <td>223</td>\n",
       "      <td>3</td>\n",
       "      <td>-550.0</td>\n",
       "      <td>0.0</td>\n",
       "      <td>0.0</td>\n",
       "      <td>0.0</td>\n",
       "      <td>0.0</td>\n",
       "      <td>-0.3</td>\n",
       "      <td>-550.3</td>\n",
       "    </tr>\n",
       "  </tbody>\n",
       "</table>\n",
       "</div>"
      ],
      "text/plain": [
       "         VendorID tpep_pickup_datetime tpep_dropoff_datetime  passenger_count  \\\n",
       "16589619        2  2017-06-22 12:56:16   2017-06-22 12:56:32                2   \n",
       "\n",
       "          trip_distance RatecodeID store_and_fwd_flag PULocationID  \\\n",
       "16589619            0.0          5                  N          223   \n",
       "\n",
       "         DOLocationID payment_type  fare_amount  extra  mta_tax  tip_amount  \\\n",
       "16589619          223            3       -550.0    0.0      0.0         0.0   \n",
       "\n",
       "          tolls_amount  improvement_surcharge  total_amount  \n",
       "16589619           0.0                   -0.3        -550.3  "
      ]
     },
     "execution_count": 20,
     "metadata": {},
     "output_type": "execute_result"
    }
   ],
   "source": [
    "df[df['fare_amount']==np.min(df['fare_amount'])].head()"
   ]
  },
  {
   "cell_type": "markdown",
   "metadata": {},
   "source": [
    "For sure another error."
   ]
  },
  {
   "cell_type": "code",
   "execution_count": 21,
   "metadata": {},
   "outputs": [
    {
     "data": {
      "text/html": [
       "<div>\n",
       "<style scoped>\n",
       "    .dataframe tbody tr th:only-of-type {\n",
       "        vertical-align: middle;\n",
       "    }\n",
       "\n",
       "    .dataframe tbody tr th {\n",
       "        vertical-align: top;\n",
       "    }\n",
       "\n",
       "    .dataframe thead th {\n",
       "        text-align: right;\n",
       "    }\n",
       "</style>\n",
       "<table border=\"1\" class=\"dataframe\">\n",
       "  <thead>\n",
       "    <tr style=\"text-align: right;\">\n",
       "      <th></th>\n",
       "      <th>VendorID</th>\n",
       "      <th>tpep_pickup_datetime</th>\n",
       "      <th>tpep_dropoff_datetime</th>\n",
       "      <th>passenger_count</th>\n",
       "      <th>trip_distance</th>\n",
       "      <th>RatecodeID</th>\n",
       "      <th>store_and_fwd_flag</th>\n",
       "      <th>PULocationID</th>\n",
       "      <th>DOLocationID</th>\n",
       "      <th>payment_type</th>\n",
       "      <th>fare_amount</th>\n",
       "      <th>extra</th>\n",
       "      <th>mta_tax</th>\n",
       "      <th>tip_amount</th>\n",
       "      <th>tolls_amount</th>\n",
       "      <th>improvement_surcharge</th>\n",
       "      <th>total_amount</th>\n",
       "    </tr>\n",
       "  </thead>\n",
       "  <tbody>\n",
       "    <tr>\n",
       "      <th>25459411</th>\n",
       "      <td>2</td>\n",
       "      <td>2017-11-17 19:50:41</td>\n",
       "      <td>2017-11-17 19:59:13</td>\n",
       "      <td>1</td>\n",
       "      <td>0.94</td>\n",
       "      <td>1</td>\n",
       "      <td>N</td>\n",
       "      <td>170</td>\n",
       "      <td>113</td>\n",
       "      <td>3</td>\n",
       "      <td>-7.0</td>\n",
       "      <td>-1.0</td>\n",
       "      <td>-0.5</td>\n",
       "      <td>-112.0</td>\n",
       "      <td>0.0</td>\n",
       "      <td>-0.3</td>\n",
       "      <td>-120.8</td>\n",
       "    </tr>\n",
       "  </tbody>\n",
       "</table>\n",
       "</div>"
      ],
      "text/plain": [
       "         VendorID tpep_pickup_datetime tpep_dropoff_datetime  passenger_count  \\\n",
       "25459411        2  2017-11-17 19:50:41   2017-11-17 19:59:13                1   \n",
       "\n",
       "          trip_distance RatecodeID store_and_fwd_flag PULocationID  \\\n",
       "25459411           0.94          1                  N          170   \n",
       "\n",
       "         DOLocationID payment_type  fare_amount  extra  mta_tax  tip_amount  \\\n",
       "25459411          113            3         -7.0   -1.0     -0.5      -112.0   \n",
       "\n",
       "          tolls_amount  improvement_surcharge  total_amount  \n",
       "25459411           0.0                   -0.3        -120.8  "
      ]
     },
     "execution_count": 21,
     "metadata": {},
     "output_type": "execute_result"
    }
   ],
   "source": [
    "df[df['tip_amount']==np.min(df['tip_amount'])]"
   ]
  },
  {
   "cell_type": "markdown",
   "metadata": {},
   "source": [
    "A generous driver who tips 112 USD to his client."
   ]
  },
  {
   "cell_type": "code",
   "execution_count": 22,
   "metadata": {},
   "outputs": [
    {
     "data": {
      "text/html": [
       "<div>\n",
       "<style scoped>\n",
       "    .dataframe tbody tr th:only-of-type {\n",
       "        vertical-align: middle;\n",
       "    }\n",
       "\n",
       "    .dataframe tbody tr th {\n",
       "        vertical-align: top;\n",
       "    }\n",
       "\n",
       "    .dataframe thead th {\n",
       "        text-align: right;\n",
       "    }\n",
       "</style>\n",
       "<table border=\"1\" class=\"dataframe\">\n",
       "  <thead>\n",
       "    <tr style=\"text-align: right;\">\n",
       "      <th></th>\n",
       "      <th>VendorID</th>\n",
       "      <th>tpep_pickup_datetime</th>\n",
       "      <th>tpep_dropoff_datetime</th>\n",
       "      <th>passenger_count</th>\n",
       "      <th>trip_distance</th>\n",
       "      <th>RatecodeID</th>\n",
       "      <th>store_and_fwd_flag</th>\n",
       "      <th>PULocationID</th>\n",
       "      <th>DOLocationID</th>\n",
       "      <th>payment_type</th>\n",
       "      <th>fare_amount</th>\n",
       "      <th>extra</th>\n",
       "      <th>mta_tax</th>\n",
       "      <th>tip_amount</th>\n",
       "      <th>tolls_amount</th>\n",
       "      <th>improvement_surcharge</th>\n",
       "      <th>total_amount</th>\n",
       "    </tr>\n",
       "  </thead>\n",
       "  <tbody>\n",
       "    <tr>\n",
       "      <th>5955958</th>\n",
       "      <td>2</td>\n",
       "      <td>2017-03-18 05:54:33</td>\n",
       "      <td>2017-03-18 05:56:19</td>\n",
       "      <td>1</td>\n",
       "      <td>0.0</td>\n",
       "      <td>5</td>\n",
       "      <td>N</td>\n",
       "      <td>231</td>\n",
       "      <td>231</td>\n",
       "      <td>4</td>\n",
       "      <td>-150.0</td>\n",
       "      <td>0.0</td>\n",
       "      <td>0.0</td>\n",
       "      <td>0.0</td>\n",
       "      <td>-17.5</td>\n",
       "      <td>-0.3</td>\n",
       "      <td>-167.8</td>\n",
       "    </tr>\n",
       "  </tbody>\n",
       "</table>\n",
       "</div>"
      ],
      "text/plain": [
       "        VendorID tpep_pickup_datetime tpep_dropoff_datetime  passenger_count  \\\n",
       "5955958        2  2017-03-18 05:54:33   2017-03-18 05:56:19                1   \n",
       "\n",
       "         trip_distance RatecodeID store_and_fwd_flag PULocationID  \\\n",
       "5955958            0.0          5                  N          231   \n",
       "\n",
       "        DOLocationID payment_type  fare_amount  extra  mta_tax  tip_amount  \\\n",
       "5955958          231            4       -150.0    0.0      0.0         0.0   \n",
       "\n",
       "         tolls_amount  improvement_surcharge  total_amount  \n",
       "5955958         -17.5                   -0.3        -167.8  "
      ]
     },
     "execution_count": 22,
     "metadata": {},
     "output_type": "execute_result"
    }
   ],
   "source": [
    "df[df['tolls_amount']==np.min(df['tolls_amount'])]"
   ]
  },
  {
   "cell_type": "markdown",
   "metadata": {},
   "source": [
    "Negative tolls. The dream of a driver."
   ]
  },
  {
   "cell_type": "markdown",
   "metadata": {},
   "source": [
    "# Exploring the data"
   ]
  },
  {
   "cell_type": "markdown",
   "metadata": {},
   "source": [
    "All the examples we have checked on the previous sections are indeed outliers. They may have different sources (errors, generous clients, long trips...) but to us it does not matter. "
   ]
  },
  {
   "cell_type": "code",
   "execution_count": 23,
   "metadata": {},
   "outputs": [],
   "source": [
    "# Let's give some use to those timestamps and calculate the trip duration (in seconds) substracting the dropoff time to the pickup time.\n",
    "df['delta_s_trip'] = (df['tpep_dropoff_datetime']-df['tpep_pickup_datetime']).astype('timedelta64[s]')"
   ]
  },
  {
   "cell_type": "code",
   "execution_count": 24,
   "metadata": {},
   "outputs": [],
   "source": [
    "# We can calculate the speed of the taxi too\n",
    "df['speed'] = df['trip_distance']/((df['tpep_dropoff_datetime']-df['tpep_pickup_datetime']).astype('timedelta64[s]')/3600)"
   ]
  },
  {
   "cell_type": "code",
   "execution_count": 25,
   "metadata": {},
   "outputs": [],
   "source": [
    "# Tip as percentage\n",
    "df['tip_pct'] = (df['tip_amount']/df['total_amount'])*100"
   ]
  },
  {
   "cell_type": "code",
   "execution_count": 26,
   "metadata": {},
   "outputs": [],
   "source": [
    "# Dropping pickup and dropoff\n",
    "df.drop(['tpep_dropoff_datetime','tpep_pickup_datetime'],axis=1,inplace=True)"
   ]
  },
  {
   "cell_type": "code",
   "execution_count": 27,
   "metadata": {},
   "outputs": [],
   "source": [
    "# Removing outliers. Selecting numeric columns only.\n",
    "filt_df = df.loc[:, [i for i in df.columns if i not in ['VendorID','payment_type','RatecodeID','PULocationID','DOLocationID','store_and_fwd_flag']]]"
   ]
  },
  {
   "cell_type": "code",
   "execution_count": 28,
   "metadata": {},
   "outputs": [],
   "source": [
    "low = 0.05\n",
    "high = 0.95\n",
    "quant_df = filt_df.quantile([low,high])"
   ]
  },
  {
   "cell_type": "code",
   "execution_count": 29,
   "metadata": {},
   "outputs": [
    {
     "data": {
      "text/html": [
       "<div>\n",
       "<style scoped>\n",
       "    .dataframe tbody tr th:only-of-type {\n",
       "        vertical-align: middle;\n",
       "    }\n",
       "\n",
       "    .dataframe tbody tr th {\n",
       "        vertical-align: top;\n",
       "    }\n",
       "\n",
       "    .dataframe thead th {\n",
       "        text-align: right;\n",
       "    }\n",
       "</style>\n",
       "<table border=\"1\" class=\"dataframe\">\n",
       "  <thead>\n",
       "    <tr style=\"text-align: right;\">\n",
       "      <th></th>\n",
       "      <th>passenger_count</th>\n",
       "      <th>trip_distance</th>\n",
       "      <th>fare_amount</th>\n",
       "      <th>extra</th>\n",
       "      <th>mta_tax</th>\n",
       "      <th>tip_amount</th>\n",
       "      <th>tolls_amount</th>\n",
       "      <th>improvement_surcharge</th>\n",
       "      <th>total_amount</th>\n",
       "      <th>delta_s_trip</th>\n",
       "      <th>speed</th>\n",
       "      <th>tip_pct</th>\n",
       "    </tr>\n",
       "  </thead>\n",
       "  <tbody>\n",
       "    <tr>\n",
       "      <th>0.05</th>\n",
       "      <td>1.0</td>\n",
       "      <td>0.49</td>\n",
       "      <td>4.5</td>\n",
       "      <td>0.0</td>\n",
       "      <td>0.5</td>\n",
       "      <td>0.00</td>\n",
       "      <td>0.00</td>\n",
       "      <td>0.3</td>\n",
       "      <td>5.80</td>\n",
       "      <td>178.0</td>\n",
       "      <td>4.148860</td>\n",
       "      <td>0.000000</td>\n",
       "    </tr>\n",
       "    <tr>\n",
       "      <th>0.95</th>\n",
       "      <td>5.0</td>\n",
       "      <td>10.77</td>\n",
       "      <td>37.0</td>\n",
       "      <td>1.0</td>\n",
       "      <td>0.5</td>\n",
       "      <td>6.55</td>\n",
       "      <td>5.54</td>\n",
       "      <td>0.3</td>\n",
       "      <td>47.34</td>\n",
       "      <td>2307.0</td>\n",
       "      <td>22.895397</td>\n",
       "      <td>20.038536</td>\n",
       "    </tr>\n",
       "  </tbody>\n",
       "</table>\n",
       "</div>"
      ],
      "text/plain": [
       "      passenger_count  trip_distance  fare_amount  extra  mta_tax  tip_amount  \\\n",
       "0.05              1.0           0.49          4.5    0.0      0.5        0.00   \n",
       "0.95              5.0          10.77         37.0    1.0      0.5        6.55   \n",
       "\n",
       "      tolls_amount  improvement_surcharge  total_amount  delta_s_trip  \\\n",
       "0.05          0.00                    0.3          5.80         178.0   \n",
       "0.95          5.54                    0.3         47.34        2307.0   \n",
       "\n",
       "          speed    tip_pct  \n",
       "0.05   4.148860   0.000000  \n",
       "0.95  22.895397  20.038536  "
      ]
     },
     "execution_count": 29,
     "metadata": {},
     "output_type": "execute_result"
    }
   ],
   "source": [
    "# 0.05 quantiles an 0.95 quantiles for each variable.\n",
    "quant_df"
   ]
  },
  {
   "cell_type": "code",
   "execution_count": 30,
   "metadata": {},
   "outputs": [],
   "source": [
    "# Filtering the outliers\n",
    "# My machine runs out of memory when I run this, so either I switch to spark or I filter the outliers on each file\n",
    "# filt_df = filt_df.apply(lambda x: x[(x>=quant_df.loc[low,x.name]) & \n",
    "#                                    (x<=quant_df.loc[high,x.name])], axis=0)\n"
   ]
  },
  {
   "cell_type": "code",
   "execution_count": 31,
   "metadata": {},
   "outputs": [],
   "source": [
    "# I don't like to rewrite the same thing over and over again, so I'll write a function.\n",
    "def data_cleanse(df):\n",
    "    # Pickup and dropoff times are strings, let's convert them to timestamps so we can later work with them.\n",
    "    df['tpep_pickup_datetime'] = pd.to_datetime(df['tpep_pickup_datetime'])\n",
    "    df['tpep_dropoff_datetime'] = pd.to_datetime(df['tpep_dropoff_datetime'])\n",
    "    # Converting categorical data into 'category'\n",
    "    df['VendorID'] = df['VendorID'].astype('category')\n",
    "    df['payment_type'] = df['payment_type'].astype('category')\n",
    "    df['RatecodeID'] = df['RatecodeID'].astype('category')\n",
    "    df['PULocationID'] = df['PULocationID'].astype('category')\n",
    "    df['DOLocationID'] = df['DOLocationID'].astype('category')\n",
    "    df['store_and_fwd_flag'] = df['store_and_fwd_flag'].astype('category')\n",
    "    # Let's give some use to those timestamps and calculate the trip duration (in seconds) substracting the dropoff time to the pickup time.\n",
    "    df['delta_s_trip']=(df['tpep_dropoff_datetime']-df['tpep_pickup_datetime']).astype('timedelta64[s]')\n",
    "    df['speed'] = df['trip_distance']/((df['tpep_dropoff_datetime']-df['tpep_pickup_datetime']).astype('timedelta64[s]')/3600)\n",
    "    df['tip_pct'] = (df['tip_amount']/df['total_amount'])*100\n",
    "    # Dropping pickup and dropoff\n",
    "    df.drop(['tpep_dropoff_datetime','tpep_pickup_datetime'],axis=1,inplace=True)\n",
    "    # Removing outliers. Selecting numeric columns only.\n",
    "    filt_df = df.loc[:, [i for i in df.columns if i not in ['VendorID','payment_type','RatecodeID','PULocationID','DOLocationID','store_and_fwd_flag']]]\n",
    "    # Global variables... yikes!\n",
    "    filt_df = filt_df.apply(lambda x: x[(x>=quant_df.loc[low,x.name]) & \n",
    "                                    (x<=quant_df.loc[high,x.name])], axis=0)\n",
    "    # Recovering the categorical columns.\n",
    "    filt_df = pd.concat([df.loc[:,['VendorID','payment_type','RatecodeID','PULocationID','DOLocationID','store_and_fwd_flag']], filt_df], axis=1)\n",
    "    filt_df.dropna(inplace=True)\n",
    "    return filt_df"
   ]
  },
  {
   "cell_type": "code",
   "execution_count": 32,
   "metadata": {},
   "outputs": [],
   "source": [
    "# IT\n",
    "filt_march = data_cleanse(march)"
   ]
  },
  {
   "cell_type": "code",
   "execution_count": 33,
   "metadata": {},
   "outputs": [],
   "source": [
    "# DOES\n",
    "filt_june = data_cleanse(june)"
   ]
  },
  {
   "cell_type": "code",
   "execution_count": 34,
   "metadata": {},
   "outputs": [],
   "source": [
    "# WORK!\n",
    "filt_november = data_cleanse(november)"
   ]
  },
  {
   "cell_type": "code",
   "execution_count": 35,
   "metadata": {},
   "outputs": [],
   "source": [
    "# Cleaning the house\n",
    "del df, march, june, november"
   ]
  },
  {
   "cell_type": "code",
   "execution_count": 36,
   "metadata": {},
   "outputs": [],
   "source": [
    "# Joining the filtered dataframes\n",
    "filt_df = pd.concat([filt_march,filt_june,filt_november])"
   ]
  },
  {
   "cell_type": "code",
   "execution_count": 37,
   "metadata": {},
   "outputs": [],
   "source": [
    "# Reindexing and we finally have our filtered dataframe\n",
    "filt_df.reset_index(inplace=True, drop=True)"
   ]
  },
  {
   "cell_type": "code",
   "execution_count": 38,
   "metadata": {},
   "outputs": [
    {
     "data": {
      "text/plain": [
       "(21138137, 18)"
      ]
     },
     "execution_count": 38,
     "metadata": {},
     "output_type": "execute_result"
    }
   ],
   "source": [
    "filt_df.shape"
   ]
  },
  {
   "cell_type": "code",
   "execution_count": 39,
   "metadata": {},
   "outputs": [
    {
     "data": {
      "text/html": [
       "<div>\n",
       "<style scoped>\n",
       "    .dataframe tbody tr th:only-of-type {\n",
       "        vertical-align: middle;\n",
       "    }\n",
       "\n",
       "    .dataframe tbody tr th {\n",
       "        vertical-align: top;\n",
       "    }\n",
       "\n",
       "    .dataframe thead th {\n",
       "        text-align: right;\n",
       "    }\n",
       "</style>\n",
       "<table border=\"1\" class=\"dataframe\">\n",
       "  <thead>\n",
       "    <tr style=\"text-align: right;\">\n",
       "      <th></th>\n",
       "      <th>payment_type</th>\n",
       "      <th>PULocationID</th>\n",
       "      <th>DOLocationID</th>\n",
       "      <th>passenger_count</th>\n",
       "      <th>trip_distance</th>\n",
       "      <th>fare_amount</th>\n",
       "      <th>extra</th>\n",
       "      <th>mta_tax</th>\n",
       "      <th>tip_amount</th>\n",
       "      <th>tolls_amount</th>\n",
       "      <th>improvement_surcharge</th>\n",
       "      <th>total_amount</th>\n",
       "      <th>delta_s_trip</th>\n",
       "      <th>speed</th>\n",
       "      <th>tip_pct</th>\n",
       "    </tr>\n",
       "  </thead>\n",
       "  <tbody>\n",
       "    <tr>\n",
       "      <th>count</th>\n",
       "      <td>2.113814e+07</td>\n",
       "      <td>2.113814e+07</td>\n",
       "      <td>2.113814e+07</td>\n",
       "      <td>2.113814e+07</td>\n",
       "      <td>2.113814e+07</td>\n",
       "      <td>2.113814e+07</td>\n",
       "      <td>2.113814e+07</td>\n",
       "      <td>21138137.0</td>\n",
       "      <td>2.113814e+07</td>\n",
       "      <td>2.113814e+07</td>\n",
       "      <td>2.113814e+07</td>\n",
       "      <td>2.113814e+07</td>\n",
       "      <td>2.113814e+07</td>\n",
       "      <td>2.113814e+07</td>\n",
       "      <td>2.113814e+07</td>\n",
       "    </tr>\n",
       "    <tr>\n",
       "      <th>mean</th>\n",
       "      <td>1.330070e+00</td>\n",
       "      <td>1.642672e+02</td>\n",
       "      <td>1.618824e+02</td>\n",
       "      <td>1.492605e+00</td>\n",
       "      <td>2.124276e+00</td>\n",
       "      <td>1.063799e+01</td>\n",
       "      <td>3.325349e-01</td>\n",
       "      <td>0.5</td>\n",
       "      <td>1.406290e+00</td>\n",
       "      <td>8.709795e-03</td>\n",
       "      <td>3.000000e-01</td>\n",
       "      <td>1.318943e+01</td>\n",
       "      <td>7.654251e+02</td>\n",
       "      <td>1.014666e+01</td>\n",
       "      <td>9.983268e+00</td>\n",
       "    </tr>\n",
       "    <tr>\n",
       "      <th>std</th>\n",
       "      <td>4.839912e-01</td>\n",
       "      <td>6.769025e+01</td>\n",
       "      <td>7.059908e+01</td>\n",
       "      <td>1.023005e+00</td>\n",
       "      <td>1.537000e+00</td>\n",
       "      <td>5.128544e+00</td>\n",
       "      <td>3.720181e-01</td>\n",
       "      <td>0.0</td>\n",
       "      <td>1.349797e+00</td>\n",
       "      <td>2.180786e-01</td>\n",
       "      <td>1.137954e-10</td>\n",
       "      <td>5.897320e+00</td>\n",
       "      <td>4.340038e+02</td>\n",
       "      <td>3.828215e+00</td>\n",
       "      <td>7.840557e+00</td>\n",
       "    </tr>\n",
       "    <tr>\n",
       "      <th>min</th>\n",
       "      <td>1.000000e+00</td>\n",
       "      <td>1.000000e+00</td>\n",
       "      <td>1.000000e+00</td>\n",
       "      <td>1.000000e+00</td>\n",
       "      <td>4.900000e-01</td>\n",
       "      <td>4.500000e+00</td>\n",
       "      <td>0.000000e+00</td>\n",
       "      <td>0.5</td>\n",
       "      <td>0.000000e+00</td>\n",
       "      <td>0.000000e+00</td>\n",
       "      <td>3.000000e-01</td>\n",
       "      <td>5.800000e+00</td>\n",
       "      <td>1.780000e+02</td>\n",
       "      <td>4.148860e+00</td>\n",
       "      <td>0.000000e+00</td>\n",
       "    </tr>\n",
       "    <tr>\n",
       "      <th>25%</th>\n",
       "      <td>1.000000e+00</td>\n",
       "      <td>1.130000e+02</td>\n",
       "      <td>1.070000e+02</td>\n",
       "      <td>1.000000e+00</td>\n",
       "      <td>1.090000e+00</td>\n",
       "      <td>7.000000e+00</td>\n",
       "      <td>0.000000e+00</td>\n",
       "      <td>0.5</td>\n",
       "      <td>0.000000e+00</td>\n",
       "      <td>0.000000e+00</td>\n",
       "      <td>3.000000e-01</td>\n",
       "      <td>8.800000e+00</td>\n",
       "      <td>4.310000e+02</td>\n",
       "      <td>7.258065e+00</td>\n",
       "      <td>0.000000e+00</td>\n",
       "    </tr>\n",
       "    <tr>\n",
       "      <th>50%</th>\n",
       "      <td>1.000000e+00</td>\n",
       "      <td>1.620000e+02</td>\n",
       "      <td>1.620000e+02</td>\n",
       "      <td>1.000000e+00</td>\n",
       "      <td>1.640000e+00</td>\n",
       "      <td>9.000000e+00</td>\n",
       "      <td>0.000000e+00</td>\n",
       "      <td>0.5</td>\n",
       "      <td>1.350000e+00</td>\n",
       "      <td>0.000000e+00</td>\n",
       "      <td>3.000000e-01</td>\n",
       "      <td>1.175000e+01</td>\n",
       "      <td>6.580000e+02</td>\n",
       "      <td>9.473684e+00</td>\n",
       "      <td>1.327434e+01</td>\n",
       "    </tr>\n",
       "    <tr>\n",
       "      <th>75%</th>\n",
       "      <td>2.000000e+00</td>\n",
       "      <td>2.340000e+02</td>\n",
       "      <td>2.340000e+02</td>\n",
       "      <td>2.000000e+00</td>\n",
       "      <td>2.620000e+00</td>\n",
       "      <td>1.300000e+01</td>\n",
       "      <td>5.000000e-01</td>\n",
       "      <td>0.5</td>\n",
       "      <td>2.160000e+00</td>\n",
       "      <td>0.000000e+00</td>\n",
       "      <td>3.000000e-01</td>\n",
       "      <td>1.596000e+01</td>\n",
       "      <td>1.000000e+03</td>\n",
       "      <td>1.232243e+01</td>\n",
       "      <td>1.666667e+01</td>\n",
       "    </tr>\n",
       "    <tr>\n",
       "      <th>max</th>\n",
       "      <td>4.000000e+00</td>\n",
       "      <td>2.650000e+02</td>\n",
       "      <td>2.650000e+02</td>\n",
       "      <td>5.000000e+00</td>\n",
       "      <td>1.077000e+01</td>\n",
       "      <td>3.700000e+01</td>\n",
       "      <td>1.000000e+00</td>\n",
       "      <td>0.5</td>\n",
       "      <td>6.550000e+00</td>\n",
       "      <td>5.540000e+00</td>\n",
       "      <td>3.000000e-01</td>\n",
       "      <td>4.734000e+01</td>\n",
       "      <td>2.307000e+03</td>\n",
       "      <td>2.289540e+01</td>\n",
       "      <td>2.003854e+01</td>\n",
       "    </tr>\n",
       "  </tbody>\n",
       "</table>\n",
       "</div>"
      ],
      "text/plain": [
       "       payment_type  PULocationID  DOLocationID  passenger_count  \\\n",
       "count  2.113814e+07  2.113814e+07  2.113814e+07     2.113814e+07   \n",
       "mean   1.330070e+00  1.642672e+02  1.618824e+02     1.492605e+00   \n",
       "std    4.839912e-01  6.769025e+01  7.059908e+01     1.023005e+00   \n",
       "min    1.000000e+00  1.000000e+00  1.000000e+00     1.000000e+00   \n",
       "25%    1.000000e+00  1.130000e+02  1.070000e+02     1.000000e+00   \n",
       "50%    1.000000e+00  1.620000e+02  1.620000e+02     1.000000e+00   \n",
       "75%    2.000000e+00  2.340000e+02  2.340000e+02     2.000000e+00   \n",
       "max    4.000000e+00  2.650000e+02  2.650000e+02     5.000000e+00   \n",
       "\n",
       "       trip_distance   fare_amount         extra     mta_tax    tip_amount  \\\n",
       "count   2.113814e+07  2.113814e+07  2.113814e+07  21138137.0  2.113814e+07   \n",
       "mean    2.124276e+00  1.063799e+01  3.325349e-01         0.5  1.406290e+00   \n",
       "std     1.537000e+00  5.128544e+00  3.720181e-01         0.0  1.349797e+00   \n",
       "min     4.900000e-01  4.500000e+00  0.000000e+00         0.5  0.000000e+00   \n",
       "25%     1.090000e+00  7.000000e+00  0.000000e+00         0.5  0.000000e+00   \n",
       "50%     1.640000e+00  9.000000e+00  0.000000e+00         0.5  1.350000e+00   \n",
       "75%     2.620000e+00  1.300000e+01  5.000000e-01         0.5  2.160000e+00   \n",
       "max     1.077000e+01  3.700000e+01  1.000000e+00         0.5  6.550000e+00   \n",
       "\n",
       "       tolls_amount  improvement_surcharge  total_amount  delta_s_trip  \\\n",
       "count  2.113814e+07           2.113814e+07  2.113814e+07  2.113814e+07   \n",
       "mean   8.709795e-03           3.000000e-01  1.318943e+01  7.654251e+02   \n",
       "std    2.180786e-01           1.137954e-10  5.897320e+00  4.340038e+02   \n",
       "min    0.000000e+00           3.000000e-01  5.800000e+00  1.780000e+02   \n",
       "25%    0.000000e+00           3.000000e-01  8.800000e+00  4.310000e+02   \n",
       "50%    0.000000e+00           3.000000e-01  1.175000e+01  6.580000e+02   \n",
       "75%    0.000000e+00           3.000000e-01  1.596000e+01  1.000000e+03   \n",
       "max    5.540000e+00           3.000000e-01  4.734000e+01  2.307000e+03   \n",
       "\n",
       "              speed       tip_pct  \n",
       "count  2.113814e+07  2.113814e+07  \n",
       "mean   1.014666e+01  9.983268e+00  \n",
       "std    3.828215e+00  7.840557e+00  \n",
       "min    4.148860e+00  0.000000e+00  \n",
       "25%    7.258065e+00  0.000000e+00  \n",
       "50%    9.473684e+00  1.327434e+01  \n",
       "75%    1.232243e+01  1.666667e+01  \n",
       "max    2.289540e+01  2.003854e+01  "
      ]
     },
     "execution_count": 39,
     "metadata": {},
     "output_type": "execute_result"
    }
   ],
   "source": [
    "# Describing the filtered dataframe to check that the values are not strange\n",
    "filt_df.describe()"
   ]
  },
  {
   "cell_type": "code",
   "execution_count": 40,
   "metadata": {},
   "outputs": [],
   "source": [
    "numeric_features = [i for i in filt_df.columns if i not in ['VendorID','payment_type','RatecodeID','PULocationID','DOLocationID','store_and_fwd_flag']]"
   ]
  },
  {
   "cell_type": "code",
   "execution_count": 41,
   "metadata": {},
   "outputs": [
    {
     "data": {
      "image/png": "[encoded data removed]",
      "text/plain": [
       "<matplotlib.figure.Figure at 0x7fddab851da0>"
      ]
     },
     "metadata": {},
     "output_type": "display_data"
    },
    {
     "data": {
      "image/png": "[encoded data removed]",
      "text/plain": [
       "<matplotlib.figure.Figure at 0x7fdd9254a400>"
      ]
     },
     "metadata": {},
     "output_type": "display_data"
    },
    {
     "data": {
      "image/png": "[encoded data removed]",
      "text/plain": [
       "<matplotlib.figure.Figure at 0x7fdd60935cc0>"
      ]
     },
     "metadata": {},
     "output_type": "display_data"
    },
    {
     "data": {
      "image/png": "[encoded data removed]",
      "text/plain": [
       "<matplotlib.figure.Figure at 0x7fdd60d14f60>"
      ]
     },
     "metadata": {},
     "output_type": "display_data"
    },
    {
     "data": {
      "image/png": "[encoded data removed]",
      "text/plain": [
       "<matplotlib.figure.Figure at 0x7fdd6b54df60>"
      ]
     },
     "metadata": {},
     "output_type": "display_data"
    },
    {
     "data": {
      "image/png": "[encoded data removed]",
      "text/plain": [
       "<matplotlib.figure.Figure at 0x7fdd6b537fd0>"
      ]
     },
     "metadata": {},
     "output_type": "display_data"
    },
    {
     "data": {
      "image/png": "[encoded data removed]",
      "text/plain": [
       "<matplotlib.figure.Figure at 0x7fdd70559c18>"
      ]
     },
     "metadata": {},
     "output_type": "display_data"
    },
    {
     "data": {
      "image/png": "[encoded data removed]",
      "text/plain": [
       "<matplotlib.figure.Figure at 0x7fdd71ad8f98>"
      ]
     },
     "metadata": {},
     "output_type": "display_data"
    },
    {
     "data": {
      "image/png": "[encoded data removed]",
      "text/plain": [
       "<matplotlib.figure.Figure at 0x7fdd6107cf60>"
      ]
     },
     "metadata": {},
     "output_type": "display_data"
    },
    {
     "data": {
      "image/png": "[encoded data removed]",
      "text/plain": [
       "<matplotlib.figure.Figure at 0x7fdd61084160>"
      ]
     },
     "metadata": {},
     "output_type": "display_data"
    },
    {
     "data": {
      "image/png": "[encoded data removed]",
      "text/plain": [
       "<matplotlib.figure.Figure at 0x7fddab84e6a0>"
      ]
     },
     "metadata": {},
     "output_type": "display_data"
    },
    {
     "data": {
      "image/png": "[encoded data removed]",
      "text/plain": [
       "<matplotlib.figure.Figure at 0x7fdd71ad8f28>"
      ]
     },
     "metadata": {},
     "output_type": "display_data"
    }
   ],
   "source": [
    "# Plotting numeric features distribution.\n",
    "for i in numeric_features:\n",
    "    plt.boxplot(filt_df[i])\n",
    "    plt.title(i)\n",
    "    plt.show()"
   ]
  },
  {
   "cell_type": "code",
   "execution_count": 42,
   "metadata": {},
   "outputs": [],
   "source": [
    "# Dropping constant columns.\n",
    "filt_df.drop(['mta_tax','improvement_surcharge'], axis = 1, inplace = True)"
   ]
  },
  {
   "cell_type": "code",
   "execution_count": 43,
   "metadata": {},
   "outputs": [
    {
     "data": {
      "image/png": "[encoded data removed]",
      "text/plain": [
       "<matplotlib.figure.Figure at 0x7fdd4d344668>"
      ]
     },
     "metadata": {},
     "output_type": "display_data"
    },
    {
     "data": {
      "image/png": "[encoded data removed]",
      "text/plain": [
       "<matplotlib.figure.Figure at 0x7fdd61084ac8>"
      ]
     },
     "metadata": {},
     "output_type": "display_data"
    },
    {
     "data": {
      "image/png": "[encoded data removed]",
      "text/plain": [
       "<matplotlib.figure.Figure at 0x7fdd61420518>"
      ]
     },
     "metadata": {},
     "output_type": "display_data"
    },
    {
     "data": {
      "image/png": "[encoded data removed]",
      "text/plain": [
       "<matplotlib.figure.Figure at 0x7fdd6cc516a0>"
      ]
     },
     "metadata": {},
     "output_type": "display_data"
    },
    {
     "data": {
      "image/png": "[encoded data removed]",
      "text/plain": [
       "<matplotlib.figure.Figure at 0x7fdd6b540dd8>"
      ]
     },
     "metadata": {},
     "output_type": "display_data"
    },
    {
     "data": {
      "image/png": "[encoded data removed]",
      "text/plain": [
       "<matplotlib.figure.Figure at 0x7fdd6cc4c4e0>"
      ]
     },
     "metadata": {},
     "output_type": "display_data"
    }
   ],
   "source": [
    "# Plotting categorical features percentages.\n",
    "for i in ['VendorID','payment_type','RatecodeID','PULocationID','DOLocationID','store_and_fwd_flag']:\n",
    "    ax = filt_df.groupby(i).size().plot(kind='bar')\n",
    "    ax.set_xlabel(i, fontsize=18)\n",
    "    ax.set_ylabel('Number of trips', fontsize=18)\n",
    "    ax.tick_params(labelsize=12)\n",
    "    plt.show()"
   ]
  },
  {
   "cell_type": "markdown",
   "metadata": {},
   "source": [
    "# Modeling a tip predictor"
   ]
  },
  {
   "cell_type": "markdown",
   "metadata": {},
   "source": [
    "We are going to create a model to predict how much tip a customer should give to the driver. </br> \n",
    "Instead of trying to predict the raw amount of a tip, we have previously calculated the percentage of the total amount that is given as a tip. This way we will have a restrained result between [0-100] and less \"volatile\"."
   ]
  },
  {
   "cell_type": "code",
   "execution_count": 44,
   "metadata": {},
   "outputs": [],
   "source": [
    "# Importing some libraries from sklearn\n",
    "from sklearn import preprocessing\n",
    "from sklearn.model_selection import train_test_split\n",
    "from sklearn.ensemble import RandomForestRegressor\n",
    "from sklearn.metrics import r2_score"
   ]
  },
  {
   "cell_type": "code",
   "execution_count": 45,
   "metadata": {},
   "outputs": [],
   "source": [
    "# We have some categorical data, so we have to encode them again so sklearn can use them.\n",
    "le = preprocessing.LabelEncoder()"
   ]
  },
  {
   "cell_type": "code",
   "execution_count": 46,
   "metadata": {},
   "outputs": [],
   "source": [
    "for i in ['VendorID','payment_type','RatecodeID','PULocationID','DOLocationID','store_and_fwd_flag']:\n",
    "    le.fit(filt_df[i])\n",
    "    filt_df[i] = le.transform(filt_df[i]) "
   ]
  },
  {
   "cell_type": "code",
   "execution_count": 47,
   "metadata": {},
   "outputs": [],
   "source": [
    "# Let's create a dataframe without the target. We will remove also the tip_amount because it is a proxy for the tip_pct.\n",
    "X = filt_df.drop(['tip_amount','tip_pct'], axis = 1)\n",
    "y = filt_df['tip_pct']"
   ]
  },
  {
   "cell_type": "code",
   "execution_count": 48,
   "metadata": {},
   "outputs": [],
   "source": [
    "# Splitting in train/test datasets.\n",
    "X_train, X_test, y_train, y_test = train_test_split(X, y, test_size=0.33, random_state=42)"
   ]
  },
  {
   "cell_type": "code",
   "execution_count": 49,
   "metadata": {},
   "outputs": [
    {
     "data": {
      "text/plain": [
       "RandomForestRegressor(bootstrap=True, criterion='mse', max_depth=None,\n",
       "           max_features='auto', max_leaf_nodes=None,\n",
       "           min_impurity_decrease=0.0, min_impurity_split=None,\n",
       "           min_samples_leaf=1, min_samples_split=2,\n",
       "           min_weight_fraction_leaf=0.0, n_estimators=150, n_jobs=8,\n",
       "           oob_score=False, random_state=None, verbose=0, warm_start=False)"
      ]
     },
     "execution_count": 49,
     "metadata": {},
     "output_type": "execute_result"
    }
   ],
   "source": [
    "# Training a RF regressor with 150 trees.\n",
    "regr = RandomForestRegressor(n_estimators = 150, n_jobs = -1)\n",
    "regr.fit(X_train, y_train)"
   ]
  },
  {
   "cell_type": "code",
   "execution_count": 50,
   "metadata": {},
   "outputs": [],
   "source": [
    "# Predicting the test data\n",
    "y_pred = regr.predict(X_test)"
   ]
  },
  {
   "cell_type": "code",
   "execution_count": 51,
   "metadata": {},
   "outputs": [
    {
     "data": {
      "image/png": "[encoded data removed]",
      "text/plain": [
       "<matplotlib.figure.Figure at 0x7fdd6ea720f0>"
      ]
     },
     "metadata": {},
     "output_type": "display_data"
    }
   ],
   "source": [
    "# We are going to plot the prediction vs the real target. If the prediction is good most of the data should be in the diagonal. (Absolute error)\n",
    "plt.scatter(y_pred,y_test)\n",
    "plt.xlabel('y_pred')\n",
    "plt.ylabel('y_test')\n",
    "plt.show()"
   ]
  },
  {
   "cell_type": "code",
   "execution_count": 52,
   "metadata": {},
   "outputs": [
    {
     "data": {
      "text/plain": [
       "0.9998349082403536"
      ]
     },
     "execution_count": 52,
     "metadata": {},
     "output_type": "execute_result"
    }
   ],
   "source": [
    "# It seems good, but let's check the R2 score \n",
    "r2_score(y_test, y_pred) "
   ]
  },
  {
   "cell_type": "code",
   "execution_count": 53,
   "metadata": {},
   "outputs": [
    {
     "data": {
      "image/png": "[encoded data removed]",
      "text/plain": [
       "<matplotlib.figure.Figure at 0x7fdd6f137048>"
      ]
     },
     "metadata": {},
     "output_type": "display_data"
    }
   ],
   "source": [
    "# Finally we are plotting the importance of the variables \n",
    "importances = regr.feature_importances_\n",
    "indices = np.argsort(importances)\n",
    "features = X_train.columns\n",
    "\n",
    "plt.title('Feature Importances')\n",
    "plt.barh(range(len(indices)), importances[indices], color='b', align='center')\n",
    "plt.yticks(range(len(indices)), [features[i] for i in indices])\n",
    "plt.xlabel('Relative Importance')\n",
    "plt.show()"
   ]
  },
  {
   "cell_type": "markdown",
   "metadata": {},
   "source": [
    "# Final discussion"
   ]
  },
  {
   "cell_type": "markdown",
   "metadata": {},
   "source": [
    "## Algorithm election \n",
    "</br> The problem is clearly a regression, we have to predict an a variable subject to the values of other independent variables. Among the algorithms that can perform a regression we have tree based algorithms (decision tree, random forest, gradient boosting...), SVM-R, neural networks... I chose random forest over the other algorithms because SVM-R and neural networks are black-box regressors (I could not explain why the predicted value is that) and I think that a decision tree is too simple and gradient boosting would be a bit overkill. </br>\n",
    "We can see on the plot of the absolute error that most of the points sit on the diagonal. This indicates that the absolute error is reduced. Also, the regression gets a high R2 score, so we can say this a valid model. </br>\n",
    "I think that the only caveat on implementing this model would be to keep the format of the inbound data, so the ETL we have made would not raise any exception. Also using this model on other cities would require some extra study. </br>\n",
    "In order to improve this model, I would use some extra features like the coordinates of the pickup and the dropoff, so we could check if certain areas or neighborhoods are more likely to give bigger tips than others. </br>\n",
    "\n",
    "## Turning the model into an API\n",
    "</br> If we wanted to turn this model into an API I would create server with Flask and a response that receives the data to predict and returns the predicted value."
   ]
  },
  {
   "cell_type": "markdown",
   "metadata": {},
   "source": [
    "Javier Cano Montero"
   ]
  },
  {
   "cell_type": "code",
   "execution_count": null,
   "metadata": {},
   "outputs": [],
   "source": []
  }
 ],
 "metadata": {
  "kernelspec": {
   "display_name": "Python 3",
   "language": "python",
   "name": "python3"
  },
  "language_info": {
   "codemirror_mode": {
    "name": "ipython",
    "version": 3
   },
   "file_extension": ".py",
   "mimetype": "text/x-python",
   "name": "python",
   "nbconvert_exporter": "python",
   "pygments_lexer": "ipython3",
   "version": "3.6.6"
  }
 },
 "nbformat": 4,
 "nbformat_minor": 2
}
